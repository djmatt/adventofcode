{
 "metadata": {
  "language_info": {
   "codemirror_mode": {
    "name": "ipython",
    "version": 3
   },
   "file_extension": ".py",
   "mimetype": "text/x-python",
   "name": "python",
   "nbconvert_exporter": "python",
   "pygments_lexer": "ipython3",
   "version": "3.7.3"
  },
  "orig_nbformat": 2,
  "kernelspec": {
   "name": "python3",
   "display_name": "Python 3.7.3 32-bit ('adventofcode-_4BhYbNO': pipenv)"
  },
  "interpreter": {
   "hash": "5d2b9da6636dbdaca1306073bb0500bdd893e1cc967b0ebd9b02ed4865ae9060"
  }
 },
 "nbformat": 4,
 "nbformat_minor": 2,
 "cells": [
  {
   "source": [
    "# Advent of Code 2015\n",
    "Basic imports of stuff"
   ],
   "cell_type": "markdown",
   "metadata": {}
  },
  {
   "cell_type": "code",
   "execution_count": 1,
   "metadata": {},
   "outputs": [
    {
     "output_type": "stream",
     "name": "stderr",
     "text": [
      "current_day is only available in December (EST)\n"
     ]
    }
   ],
   "source": [
    "from aocd import submit\n",
    "from aocd.models import Puzzle, User\n",
    "from pathlib import Path\n",
    "from itertools import islice, combinations, accumulate, count\n",
    "from functools import reduce\n",
    "from collections import deque\n",
    "import re"
   ]
  },
  {
   "source": [
    "## Useful stuff"
   ],
   "cell_type": "markdown",
   "metadata": {}
  },
  {
   "cell_type": "code",
   "execution_count": 2,
   "metadata": {},
   "outputs": [],
   "source": [
    "def first(iterable):\n",
    "    '''returns the first item of an iterable'''\n",
    "    return next(iter(iterable))\n",
    "\n",
    "def nth(iterable, n, default=None):\n",
    "    '''Returns the nth item in an iterable or a default value'''\n",
    "    return next(islice(iterable, n, None), default)\n",
    "\n",
    "def take(n, iterable):\n",
    "    \"Return first n items of the iterable as a list\"\n",
    "    return list(islice(iterable, n))\n",
    "\n",
    "def tail(n, iterable):\n",
    "    \"Return an iterator over the last n items\"\n",
    "    # tail(3, 'ABCDEFG') --> E F G\n",
    "    return iter(deque(iterable, maxlen=n))\n",
    "\n",
    "def prod(numbers):\n",
    "    '''Returns the product of all the numbers'''\n",
    "    return reduce((lambda x,y: x*y), numbers)\n",
    "\n",
    "\n",
    "# Shamlessly stolen from https://github.com/norvig/pytudes/blob/master/ipynb/Advent%202017.ipynb\n",
    "origin = (0, 0)\n",
    "HEADINGS = UP, LEFT, DOWN, RIGHT = (0, 1), (-1, 0), (0, -1), (1, 0)\n",
    "\n",
    "def X(point): return point[0]\n",
    "def Y(point): return point[1]\n",
    "\n",
    "def turn_right(heading): return HEADINGS[HEADINGS.index(heading) - 1]\n",
    "def turn_around(heading): return HEADINGS[HEADINGS.index(heading) - 2]\n",
    "def turn_left(heading): return HEADINGS[HEADINGS.index(heading) - 3]\n",
    "\n",
    "def mapt(fn, *args):\n",
    "    \"Do a map, and make the results into a tuple.\"\n",
    "    return tuple(map(fn, *args))\n",
    "\n",
    "def add(A, B):\n",
    "    \"Element-wise addition of two n-dimensional vectors.\"\n",
    "    return mapt(sum, zip(A, B))\n",
    "\n",
    "def neighbors4(point):\n",
    "    \"The four neighboring squares.\"\n",
    "    x, y = point\n",
    "    return (          (x, y-1),\n",
    "            (x-1, y),           (x+1, y),\n",
    "                      (x, y+1))\n",
    "\n",
    "def neighbors8(point):\n",
    "    \"The eight neighboring squares.\"\n",
    "    x, y = point\n",
    "    return ((x-1, y-1), (x, y-1), (x+1, y-1),\n",
    "            (x-1, y),             (x+1, y),\n",
    "            (x-1, y+1), (x, y+1), (x+1, y+1))\n",
    "\n",
    "def cityblock_distance(P, Q=origin):\n",
    "    \"Manhatten distance between two points.\"\n",
    "    return sum(abs(p - q) for p, q in zip(P, Q))\n",
    "\n",
    "############"
   ]
  },
  {
   "source": [
    "## Day 01\n",
    "### Part 1"
   ],
   "cell_type": "markdown",
   "metadata": {}
  },
  {
   "cell_type": "code",
   "execution_count": 3,
   "metadata": {},
   "outputs": [],
   "source": [
    "p = Puzzle(year=2015, day=1)\n",
    "d = p.input_data"
   ]
  },
  {
   "cell_type": "code",
   "execution_count": 4,
   "metadata": {},
   "outputs": [],
   "source": [
    "p.answer_a = sum(-1 if c is ')' else 1 for c in d)"
   ]
  },
  {
   "source": [
    "### Part 2"
   ],
   "cell_type": "markdown",
   "metadata": {}
  },
  {
   "cell_type": "code",
   "execution_count": 5,
   "metadata": {},
   "outputs": [],
   "source": [
    "\n",
    "p.answer_b = first(i for i,r in enumerate(accumulate(-1 if c is ')' else 1 for c in d)) if r == -1) + 1"
   ]
  },
  {
   "source": [
    "## Day 02"
   ],
   "cell_type": "markdown",
   "metadata": {}
  },
  {
   "cell_type": "code",
   "execution_count": 6,
   "metadata": {},
   "outputs": [],
   "source": [
    "p = Puzzle(year=2015, day=2)\n",
    "d = p.input_data"
   ]
  },
  {
   "cell_type": "code",
   "execution_count": 7,
   "metadata": {},
   "outputs": [],
   "source": [
    "boxes = d.splitlines()"
   ]
  },
  {
   "cell_type": "code",
   "execution_count": 8,
   "metadata": {
    "tags": []
   },
   "outputs": [
    {
     "output_type": "stream",
     "name": "stdout",
     "text": [
      "1588178\n"
     ]
    }
   ],
   "source": [
    "accum = 0\n",
    "for box in boxes:\n",
    "    dimensions = (int(s) for s in box.split('x'))\n",
    "    sides = [prod(s) for s in combinations(dimensions, 2)]\n",
    "    area = 2*sum(sides) + min(sides)\n",
    "    accum += area\n",
    "\n",
    "print(accum)\n",
    "\n",
    "p.answer_a = accum\n",
    "\n",
    "\n",
    "    "
   ]
  },
  {
   "cell_type": "code",
   "execution_count": 9,
   "metadata": {},
   "outputs": [],
   "source": [
    "d = p.input_data\n",
    "boxes = d.splitlines()\n",
    "accum = 0\n",
    "for box in boxes:\n",
    "    dimensions = [int(s) for s in box.split('x')]\n",
    "    perimeters = [2*sum(s) for s in combinations(dimensions,2)]\n",
    "    accum += min(perimeters) + prod(dimensions)\n",
    "\n",
    "p.answer_b = accum"
   ]
  },
  {
   "source": [
    "## Day 03"
   ],
   "cell_type": "markdown",
   "metadata": {}
  },
  {
   "cell_type": "code",
   "execution_count": 10,
   "metadata": {},
   "outputs": [],
   "source": [
    "p = Puzzle(year=2015, day=3)\n",
    "d = p.input_data"
   ]
  },
  {
   "cell_type": "code",
   "execution_count": 11,
   "metadata": {},
   "outputs": [],
   "source": [
    "directions = d\n",
    "dir2heading = {'<': LEFT,\n",
    "               '>': RIGHT, \n",
    "               '^': UP,\n",
    "               'v': DOWN}\n",
    "\n",
    "#converts puzzle input directions in to a list of heading tuples\n",
    "headings = [dir2heading[direction] for direction in directions]\n",
    "\n",
    "#clearly needs explanation\n",
    "#Accumulate does a running sum\n",
    "#Mapt applies accumulate to the x and y parts of the list of headings, \n",
    "# where x is accumulated independently of y\n",
    "#What this is doing is converting a list of movements into a list of locations visited\n",
    "locations = zip(*mapt(accumulate, zip(origin,*headings)))"
   ]
  },
  {
   "cell_type": "code",
   "execution_count": 12,
   "metadata": {},
   "outputs": [],
   "source": [
    "p.answer_a = len(set(locations))"
   ]
  },
  {
   "cell_type": "code",
   "execution_count": 13,
   "metadata": {},
   "outputs": [],
   "source": [
    "s_headings = headings[0::2]\n",
    "r_headings = headings[1::2]\n",
    "\n",
    "s_locations = zip(*mapt(accumulate, zip(origin,*s_headings)))\n",
    "r_locations = zip(*mapt(accumulate, zip(origin,*r_headings)))\n",
    "\n",
    "p.answer_b = len(set(s_locations) | set(r_locations))"
   ]
  },
  {
   "source": [
    "## Day 04"
   ],
   "cell_type": "markdown",
   "metadata": {}
  },
  {
   "cell_type": "code",
   "execution_count": 14,
   "metadata": {},
   "outputs": [],
   "source": [
    "p = Puzzle(year=2015, day=4)\n",
    "d = p.input_data"
   ]
  },
  {
   "cell_type": "code",
   "execution_count": 15,
   "metadata": {},
   "outputs": [],
   "source": [
    "from hashlib import md5\n",
    "\n",
    "p.answer_a = first(n for n in count(1) if md5(f'{d:s}{n:d}'.encode('utf-8')).hexdigest()[:5]  == '00000')"
   ]
  },
  {
   "cell_type": "code",
   "execution_count": 16,
   "metadata": {},
   "outputs": [],
   "source": [
    "p.answer_b = first(n for n in count(1) if md5(f'{d:s}{n:d}'.encode('utf-8')).hexdigest()[:6]  == '000000')"
   ]
  },
  {
   "source": [
    "## Day 05"
   ],
   "cell_type": "markdown",
   "metadata": {}
  },
  {
   "cell_type": "code",
   "execution_count": 17,
   "metadata": {},
   "outputs": [],
   "source": [
    "p = Puzzle(year=2015, day=5)\n",
    "d = p.input_data"
   ]
  },
  {
   "cell_type": "code",
   "execution_count": 18,
   "metadata": {
    "tags": []
   },
   "outputs": [],
   "source": [
    "def isNice(instr):\n",
    "    if sum(instr.count(vowel) for vowel in 'aeiou') < 3:\n",
    "        # print(f'{instr} failed vowel test')\n",
    "        return False\n",
    "    \n",
    "    if not any(a==b for a,b in zip(instr[:-1],instr[1:])):\n",
    "        # print(f'{instr} failed double letter test')\n",
    "        return False\n",
    "\n",
    "    if any(ex in instr for ex in ['ab', 'cd', 'pq', 'xy']):\n",
    "        \n",
    "        # print(f'{instr} failed forbidden combo test')\n",
    "        return False\n",
    "\n",
    "    return True\n",
    "\n",
    "\n",
    "p.answer_a = sum(1 for testcase in d.splitlines() if isNice(testcase))\n",
    "\n",
    "\n",
    "    "
   ]
  },
  {
   "cell_type": "code",
   "execution_count": null,
   "metadata": {},
   "outputs": [],
   "source": []
  }
 ]
}