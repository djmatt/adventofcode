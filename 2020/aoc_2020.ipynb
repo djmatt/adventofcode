{
 "cells": [
  {
   "cell_type": "markdown",
   "metadata": {},
   "source": [
    "# Advent of Code 2020\n",
    "Basic imports of stuff"
   ]
  },
  {
   "cell_type": "code",
   "execution_count": 1,
   "metadata": {},
   "outputs": [
    {
     "output_type": "stream",
     "name": "stderr",
     "text": [
      "current_day is only available in December (EST)\n"
     ]
    }
   ],
   "source": [
    "from aocd import submit\n",
    "from aocd.models import Puzzle, User\n",
    "from pathlib import Path\n",
    "from itertools import islice, combinations\n",
    "from functools import reduce\n",
    "from collections import deque\n",
    "import re"
   ]
  },
  {
   "cell_type": "markdown",
   "metadata": {},
   "source": [
    "Useful stuff"
   ]
  },
  {
   "cell_type": "code",
   "execution_count": 2,
   "metadata": {},
   "outputs": [],
   "source": [
    "def first(iterable):\n",
    "    '''returns the first item of an iterable'''\n",
    "    return next(iter(iterable))\n",
    "\n",
    "def nth(iterable, n, default=None):\n",
    "    '''Returns the nth item in an iterable or a default value'''\n",
    "    return next(islice(iterable, n, None), default)\n",
    "\n",
    "def take(n, iterable):\n",
    "    \"Return first n items of the iterable as a list\"\n",
    "    return list(islice(iterable, n))\n",
    "\n",
    "def tail(n, iterable):\n",
    "    \"Return an iterator over the last n items\"\n",
    "    # tail(3, 'ABCDEFG') --> E F G\n",
    "    return iter(deque(iterable, maxlen=n))\n",
    "\n",
    "def prod(numbers):\n",
    "    '''Returns the product of all the numbers'''\n",
    "    return reduce((lambda x,y: x*y), numbers)\n"
   ]
  },
  {
   "source": [
    "## Day 01\n",
    "### Part 1\n",
    "The puzzle input is a list of numbers (provided as a long string, separated by newlines).\n",
    "I need to fine the 2 entries that sum to 2020, then provide the multiple of the 2 entries\n"
   ],
   "cell_type": "markdown",
   "metadata": {}
  },
  {
   "cell_type": "code",
   "execution_count": 3,
   "metadata": {},
   "outputs": [],
   "source": [
    "p = Puzzle(year=2020, day=1)\n",
    "d = [int(x) for x in p.input_data.split()]"
   ]
  },
  {
   "cell_type": "code",
   "execution_count": 4,
   "metadata": {},
   "outputs": [
    {
     "output_type": "stream",
     "name": "stdout",
     "text": [
      "960075\n"
     ]
    }
   ],
   "source": [
    "result = None\n",
    "for entries in combinations(d,2):\n",
    "    if 2020 == sum(entries):\n",
    "        result = prod(entries)\n",
    "        break\n",
    "\n",
    "if result:\n",
    "    print(result)\n",
    "    p.answer_a = result"
   ]
  },
  {
   "cell_type": "code",
   "execution_count": 8,
   "metadata": {},
   "outputs": [
    {
     "output_type": "execute_result",
     "data": {
      "text/plain": [
       "960075"
      ]
     },
     "metadata": {},
     "execution_count": 8
    }
   ],
   "source": [
    "prod(first(entry for entry in combinations(d,2) if sum(entry) == 2020))"
   ]
  },
  {
   "source": [
    "### Part 2\n",
    "Same puzzle but find the combination of 3 entries that add up to 2020"
   ],
   "cell_type": "markdown",
   "metadata": {}
  },
  {
   "cell_type": "code",
   "execution_count": 5,
   "metadata": {},
   "outputs": [
    {
     "output_type": "stream",
     "name": "stdout",
     "text": [
      "212900130\n"
     ]
    }
   ],
   "source": [
    "result = None\n",
    "for entries in combinations(d,3):\n",
    "    if 2020 == sum(entries):\n",
    "        result = prod(entries)\n",
    "        break\n",
    "\n",
    "if result:\n",
    "    print(result)\n",
    "    p.answer_b = result"
   ]
  },
  {
   "cell_type": "code",
   "execution_count": 9,
   "metadata": {},
   "outputs": [
    {
     "output_type": "execute_result",
     "data": {
      "text/plain": [
       "212900130"
      ]
     },
     "metadata": {},
     "execution_count": 9
    }
   ],
   "source": [
    "prod(first(entry for entry in combinations(d,3) if sum(entry)==2020))"
   ]
  },
  {
   "source": [
    "## Day 02\n",
    "### Part 1\n",
    "Validate passwords in a list (puzzle input) using rules associated with each password.  Using regex to make this work.\n"
   ],
   "cell_type": "markdown",
   "metadata": {}
  },
  {
   "cell_type": "code",
   "execution_count": 6,
   "metadata": {},
   "outputs": [],
   "source": [
    "p = Puzzle(year=2020, day=2)\n"
   ]
  },
  {
   "cell_type": "code",
   "execution_count": 7,
   "metadata": {},
   "outputs": [
    {
     "output_type": "stream",
     "name": "stdout",
     "text": [
      "422\n"
     ]
    }
   ],
   "source": [
    "result = 0\n",
    "\n",
    "parser = re.compile('(\\d*)-(\\d*).(\\w): (\\w*)')\n",
    "\n",
    "for lo, hi, letter, password in parser.findall(p.input_data):\n",
    "    if int(lo) <= password.count(letter) <= int(hi):\n",
    "        result+=1\n",
    "\n",
    "print(result)\n",
    "p.answer_a = result"
   ]
  },
  {
   "source": [
    "### Part 2\n",
    "This time the numbers tell you which indexes to check.  Only one of the indexes can contain the specified letter"
   ],
   "cell_type": "markdown",
   "metadata": {}
  },
  {
   "cell_type": "code",
   "execution_count": 8,
   "metadata": {},
   "outputs": [
    {
     "output_type": "stream",
     "name": "stdout",
     "text": [
      "451\n"
     ]
    }
   ],
   "source": [
    "result = 0\n",
    "\n",
    "parser = re.compile('(\\d*)-(\\d*).(\\w): (\\w*)')\n",
    "\n",
    "for lo, hi, letter, password in parser.findall(p.input_data):\n",
    "    if int(lo) < int(hi) <= len(password):\n",
    "        if (password[int(lo)-1] == letter) ^ (password[int(hi)-1] == letter):\n",
    "            result+=1\n",
    "\n",
    "print(result)\n",
    "p.answer_b = result"
   ]
  },
  {
   "source": [
    "## Day 3\n",
    "### Part 1\n"
   ],
   "cell_type": "markdown",
   "metadata": {}
  },
  {
   "cell_type": "code",
   "execution_count": 9,
   "metadata": {},
   "outputs": [],
   "source": [
    "p = Puzzle(day=3,year=2020)"
   ]
  },
  {
   "cell_type": "code",
   "execution_count": 10,
   "metadata": {},
   "outputs": [],
   "source": [
    "d = p.input_data.splitlines()"
   ]
  },
  {
   "cell_type": "code",
   "execution_count": 11,
   "metadata": {},
   "outputs": [],
   "source": [
    "result = 0\n",
    "\n",
    "start = (0,0)\n",
    "slope = (3,1)\n",
    "ncol = len(d[0])\n",
    "\n",
    "here = start\n",
    "while here[1] < len(d):\n",
    "    if d[here[1]][here[0]] == '#':\n",
    "        result += 1\n",
    "    here = (here[0] + slope[0]) % ncol , here[1] + slope[1]\n",
    "\n",
    "p.answer_a= result\n",
    " "
   ]
  },
  {
   "source": [
    "### Part 2"
   ],
   "cell_type": "markdown",
   "metadata": {}
  },
  {
   "cell_type": "code",
   "execution_count": 12,
   "metadata": {},
   "outputs": [],
   "source": [
    "results = []\n",
    "\n",
    "start = (0,0)\n",
    "ncol = len(d[0])\n",
    "\n",
    "slopes = [(1,1), (3,1), (5,1), (7,1), (1,2)]\n",
    "\n",
    "for slope in slopes:\n",
    "    here = start\n",
    "    result = 0\n",
    "    while here[1] < len(d):\n",
    "        if d[here[1]][here[0]] == '#':\n",
    "            result += 1\n",
    "        here = (here[0] + slope[0]) % ncol , here[1] + slope[1]\n",
    "    \n",
    "    results.append(result)\n",
    "\n",
    "p.answer_b = prod(results)"
   ]
  },
  {
   "source": [
    "## Day 4\n",
    "### Part 1"
   ],
   "cell_type": "markdown",
   "metadata": {}
  },
  {
   "cell_type": "code",
   "execution_count": 13,
   "metadata": {},
   "outputs": [],
   "source": [
    "p = Puzzle(day=4, year=2020)"
   ]
  },
  {
   "cell_type": "code",
   "execution_count": 14,
   "metadata": {},
   "outputs": [],
   "source": [
    "\n",
    "parser = re.compile('(\\w{3}):(\\S+)')\n",
    "\n",
    "def has_all_fields(passport):\n",
    "    required_fields = set(['byr','iyr','eyr','hgt','hcl','ecl','pid'])\n",
    "    detected_fields = set(field[0] for field in parser.findall(passport))\n",
    "    return not(required_fields - detected_fields)\n",
    "\n",
    "passports = p.input_data.split('\\n\\n')\n",
    "valid_passports = [passport for passport in passports if has_all_fields(passport)]\n",
    "\n",
    "p.answer_a = len(valid_passports)"
   ]
  },
  {
   "source": [
    "### Part 2\n",
    "The line is moving more quickly now, but you overhear airport security talking about how passports with invalid data are getting through. Better add some data validation, quick!\n",
    "\n",
    "You can continue to ignore the cid field, but each other field has strict rules about what values are valid for automatic validation:\n",
    "\n",
    " - byr (Birth Year) - four digits; at least 1920 and at most 2002.\n",
    " - iyr (Issue Year) - four digits; at least 2010 and at most 2020.\n",
    " - eyr (Expiration Year) - four digits; at least 2020 and at most 2030.\n",
    " - hgt (Height) - a number followed by either cm or in:\n",
    " - If cm, the number must be at least 150 and at most 193.\n",
    " - If in, the number must be at least 59 and at most 76.\n",
    " - hcl (Hair Color) - a # followed by exactly six characters 0-9 or a-f.\n",
    " - ecl (Eye Color) - exactly one of: amb blu brn gry grn hzl oth.\n",
    " - pid (Passport ID) - a nine-digit number, including leading zeroes.\n",
    " - cid (Country ID) - ignored, missing or not."
   ],
   "cell_type": "markdown",
   "metadata": {}
  },
  {
   "cell_type": "code",
   "execution_count": 15,
   "metadata": {},
   "outputs": [],
   "source": [
    "def validate_byr(year: str) -> bool:\n",
    "    return 1920 <= int(year) <= 2002\n",
    "\n",
    "def validate_iyr(year: str):\n",
    "    return 2010 <= int(year) <= 2020\n",
    "\n",
    "def validate_eyr(year: str): \n",
    "    return 2020 <= int(year) <= 2030\n",
    "\n",
    "def validate_hgt(height: str):\n",
    "    height = height.strip()\n",
    "\n",
    "    try:\n",
    "        height, unit = int(height[:-2]), height[-2:]\n",
    "    except(ValueError):\n",
    "        return False\n",
    "\n",
    "    if(unit == 'cm'):\n",
    "        return 150 <= height <= 193\n",
    "    elif(unit == 'in'):\n",
    "        return 59 <= height <= 76\n",
    "    else: \n",
    "        return False\n",
    "\n",
    "def validate_hcl(color: str):\n",
    "    if color[0] != '#':\n",
    "        return False\n",
    "\n",
    "    if len(color[1:]) != 6:\n",
    "        return False\n",
    "\n",
    "    try:\n",
    "        color = int(color[1:],16)\n",
    "    except(ValueError):\n",
    "        return False\n",
    "\n",
    "    return True\n",
    "\n",
    "def validate_ecl(color: str):\n",
    "    valid_colors = ['amb', 'blu', 'brn','gry', 'grn', 'hzl', 'oth']\n",
    "    return color in valid_colors\n",
    "\n",
    "def validate_pid(pid: str):\n",
    "    if(len(pid) != 9):\n",
    "        return False\n",
    "\n",
    "    try:\n",
    "        pid = int(pid)\n",
    "    except(ValueError):\n",
    "        return False\n",
    "\n",
    "    return True\n"
   ]
  },
  {
   "cell_type": "code",
   "execution_count": 16,
   "metadata": {},
   "outputs": [],
   "source": [
    "validator = {'byr': validate_byr,\n",
    "             'iyr': validate_iyr,\n",
    "             'eyr': validate_eyr,\n",
    "             'hgt': validate_hgt,\n",
    "             'hcl': validate_hcl,\n",
    "             'ecl': validate_ecl,\n",
    "             'pid': validate_pid,\n",
    "             'cid': lambda x: True}\n",
    "\n",
    "passports = p.input_data.split('\\n\\n')\n",
    "valid_passports = []\n",
    "for passport in passports:\n",
    "    if has_all_fields(passport):\n",
    "        is_valid = True\n",
    "        for field, val in parser.findall(passport):\n",
    "            is_valid = is_valid and validator[field](val)\n",
    "        \n",
    "        if is_valid:\n",
    "            valid_passports.append(passport)\n",
    "\n",
    "p.answer_b = len(valid_passports)"
   ]
  },
  {
   "source": [
    "## Day 5\n",
    "### Part 1\n",
    " - F = 0\n",
    " - B = 1\n",
    " - L = 0\n",
    " - R = 1      "
   ],
   "cell_type": "markdown",
   "metadata": {}
  },
  {
   "cell_type": "code",
   "execution_count": 17,
   "metadata": {},
   "outputs": [],
   "source": [
    "p = Puzzle(year = 2020, day=5)"
   ]
  },
  {
   "cell_type": "code",
   "execution_count": 18,
   "metadata": {},
   "outputs": [],
   "source": [
    "seat_ids = p.input_data.splitlines()\n",
    "\n",
    "table = str.maketrans('FBLR','0101')\n",
    "\n",
    "def toBinaryStr(seat_id: str) -> str:\n",
    "    return seat_id.translate(table)\n",
    "\n",
    "def inDecimal(seat_id: str) -> int:\n",
    "    return int(toBinaryStr(seat_id), 2)\n",
    "\n",
    "maxSeat = max(inDecimal(seat) for seat in seat_ids)\n",
    "p.answer_a = maxSeat\n"
   ]
  },
  {
   "source": [
    "### Part 2"
   ],
   "cell_type": "markdown",
   "metadata": {}
  },
  {
   "cell_type": "code",
   "execution_count": 19,
   "metadata": {},
   "outputs": [],
   "source": [
    "seats = [inDecimal(seat_id) for seat_id in seat_ids]\n",
    "seats.sort()\n",
    "\n",
    "diffs = [b-a for a,b in zip(seats[:-1],seats[1:])]\n",
    "\n",
    "my_seat = seats[diffs.index(2)] + 1 \n",
    "\n",
    "p.answer_b = my_seat"
   ]
  }
 ],
 "metadata": {
  "kernelspec": {
   "display_name": "Python 3",
   "language": "python",
   "name": "python3"
  },
  "language_info": {
   "codemirror_mode": {
    "name": "ipython",
    "version": 3
   },
   "file_extension": ".py",
   "mimetype": "text/x-python",
   "name": "python",
   "nbconvert_exporter": "python",
   "pygments_lexer": "ipython3",
   "version": "3.7.3-final"
  }
 },
 "nbformat": 4,
 "nbformat_minor": 4
}