{
 "cells": [
  {
   "cell_type": "markdown",
   "metadata": {},
   "source": [
    "# Advent of Code 2020\n",
    "Basic imports of stuff"
   ]
  },
  {
   "cell_type": "code",
   "execution_count": 1,
   "metadata": {},
   "outputs": [],
   "source": [
    "from aocd import submit\n",
    "from aocd.models import Puzzle, User\n",
    "from pathlib import Path\n",
    "from itertools import islice, combinations\n",
    "from functools import reduce\n",
    "from collections import deque\n",
    "import re"
   ]
  },
  {
   "cell_type": "markdown",
   "metadata": {},
   "source": [
    "Useful stuff"
   ]
  },
  {
   "cell_type": "code",
   "execution_count": 2,
   "metadata": {},
   "outputs": [],
   "source": [
    "def first(iterable):\n",
    "    '''returns the first item of an iterable'''\n",
    "    return next(iter(iterable))\n",
    "\n",
    "def nth(iterable, n, default=None):\n",
    "    '''Returns the nth item in an iterable or a default value'''\n",
    "    return next(islice(iterable, n, None), default)\n",
    "\n",
    "def take(n, iterable):\n",
    "    \"Return first n items of the iterable as a list\"\n",
    "    return list(islice(iterable, n))\n",
    "\n",
    "def tail(n, iterable):\n",
    "    \"Return an iterator over the last n items\"\n",
    "    # tail(3, 'ABCDEFG') --> E F G\n",
    "    return iter(deque(iterable, maxlen=n))\n",
    "\n",
    "def prod(numbers):\n",
    "    '''Returns the product of all the numbers'''\n",
    "    return reduce((lambda x,y: x*y), numbers)\n"
   ]
  },
  {
   "source": [
    "## Day 01\n",
    "### Part 1\n",
    "The puzzle input is a list of numbers (provided as a long string, separated by newlines).\n",
    "I need to fine the 2 entries that sum to 2020, then provide the multiple of the 2 entries\n"
   ],
   "cell_type": "markdown",
   "metadata": {}
  },
  {
   "cell_type": "code",
   "execution_count": 3,
   "metadata": {},
   "outputs": [],
   "source": [
    "p = Puzzle(year=2020, day=1)\n",
    "d = [int(x) for x in p.input_data.split()]"
   ]
  },
  {
   "cell_type": "code",
   "execution_count": 4,
   "metadata": {},
   "outputs": [
    {
     "output_type": "stream",
     "name": "stdout",
     "text": [
      "960075\n"
     ]
    }
   ],
   "source": [
    "result = None\n",
    "for entries in combinations(d,2):\n",
    "    if 2020 == sum(entries):\n",
    "        result = prod(entries)\n",
    "        break\n",
    "\n",
    "if result:\n",
    "    print(result)\n",
    "    p.answer_a = result"
   ]
  },
  {
   "source": [
    "### Part 2\n",
    "Same puzzle but find the combination of 3 entries that add up to 2020"
   ],
   "cell_type": "markdown",
   "metadata": {}
  },
  {
   "cell_type": "code",
   "execution_count": 5,
   "metadata": {},
   "outputs": [
    {
     "output_type": "stream",
     "name": "stdout",
     "text": [
      "212900130\n"
     ]
    }
   ],
   "source": [
    "result = None\n",
    "for entries in combinations(d,3):\n",
    "    if 2020 == sum(entries):\n",
    "        result = prod(entries)\n",
    "        break\n",
    "\n",
    "if result:\n",
    "    print(result)\n",
    "    p.answer_b = result"
   ]
  },
  {
   "source": [
    "## Day 02\n",
    "### Part 1\n",
    "Validate passwords in a list (puzzle input) using rules associated with each password.  Using regex to make this work.\n"
   ],
   "cell_type": "markdown",
   "metadata": {}
  },
  {
   "cell_type": "code",
   "execution_count": 6,
   "metadata": {},
   "outputs": [],
   "source": [
    "p = Puzzle(year=2020, day=2)\n"
   ]
  },
  {
   "cell_type": "code",
   "execution_count": 7,
   "metadata": {},
   "outputs": [
    {
     "output_type": "stream",
     "name": "stdout",
     "text": [
      "422\n"
     ]
    }
   ],
   "source": [
    "result = 0\n",
    "\n",
    "parser = re.compile('(\\d*)-(\\d*).(\\w): (\\w*)')\n",
    "\n",
    "for lo, hi, letter, password in parser.findall(p.input_data):\n",
    "    if int(lo) <= password.count(letter) <= int(hi):\n",
    "        result+=1\n",
    "\n",
    "print(result)\n",
    "p.answer_a = result"
   ]
  },
  {
   "source": [
    "### Part 2\n",
    "This time the numbers tell you which indexes to check.  Only one of the indexes can contain the specified letter"
   ],
   "cell_type": "markdown",
   "metadata": {}
  },
  {
   "cell_type": "code",
   "execution_count": 8,
   "metadata": {},
   "outputs": [
    {
     "output_type": "stream",
     "name": "stdout",
     "text": [
      "451\n"
     ]
    }
   ],
   "source": [
    "result = 0\n",
    "\n",
    "parser = re.compile('(\\d*)-(\\d*).(\\w): (\\w*)')\n",
    "\n",
    "for lo, hi, letter, password in parser.findall(p.input_data):\n",
    "    if int(lo) < int(hi) <= len(password):\n",
    "        if (password[int(lo)-1] == letter) ^ (password[int(hi)-1] == letter):\n",
    "            result+=1\n",
    "\n",
    "print(result)\n",
    "p.answer_b = result"
   ]
  },
  {
   "source": [
    "## Day 3\n",
    "### Part 1\n"
   ],
   "cell_type": "markdown",
   "metadata": {}
  },
  {
   "cell_type": "code",
   "execution_count": 10,
   "metadata": {},
   "outputs": [],
   "source": [
    "p = Puzzle(day=3,year=2020)"
   ]
  },
  {
   "cell_type": "code",
   "execution_count": 14,
   "metadata": {},
   "outputs": [],
   "source": [
    "d = p.input_data.splitlines()"
   ]
  },
  {
   "cell_type": "code",
   "execution_count": 33,
   "metadata": {},
   "outputs": [
    {
     "output_type": "stream",
     "name": "stdout",
     "text": [
      "That's the right answer!  You are one gold star closer to saving your vacation. [Continue to Part Two]\n"
     ]
    }
   ],
   "source": [
    "result = 0\n",
    "\n",
    "start = (0,0)\n",
    "slope = (3,1)\n",
    "ncol = len(d[0])\n",
    "\n",
    "here = start\n",
    "while here[1] < len(d):\n",
    "    if d[here[1]][here[0]] == '#':\n",
    "        result += 1\n",
    "    here = (here[0] + slope[0]) % ncol , here[1] + slope[1]\n",
    "\n",
    "p.answer_a= result\n",
    " "
   ]
  },
  {
   "source": [
    "### Part 2"
   ],
   "cell_type": "markdown",
   "metadata": {}
  },
  {
   "cell_type": "code",
   "execution_count": 35,
   "metadata": {},
   "outputs": [
    {
     "output_type": "stream",
     "name": "stdout",
     "text": [
      "That's the right answer!  You are one gold star closer to saving your vacation.You have completed Day 3! You can [Shareon\n",
      "  Twitter\n",
      "Mastodon] this victory or [Return to Your Advent Calendar].\n"
     ]
    }
   ],
   "source": [
    "results = []\n",
    "\n",
    "start = (0,0)\n",
    "ncol = len(d[0])\n",
    "\n",
    "slopes = [(1,1), (3,1), (5,1), (7,1), (1,2)]\n",
    "\n",
    "for slope in slopes:\n",
    "    here = start\n",
    "    result = 0\n",
    "    while here[1] < len(d):\n",
    "        if d[here[1]][here[0]] == '#':\n",
    "            result += 1\n",
    "        here = (here[0] + slope[0]) % ncol , here[1] + slope[1]\n",
    "    \n",
    "    results.append(result)\n",
    "\n",
    "p.answer_b = prod(results)"
   ]
  },
  {
   "source": [
    "## Day 4\n",
    "### Part 1"
   ],
   "cell_type": "markdown",
   "metadata": {}
  },
  {
   "cell_type": "code",
   "execution_count": 54,
   "metadata": {},
   "outputs": [],
   "source": [
    "p = Puzzle(day=4, year=2020)"
   ]
  },
  {
   "cell_type": "code",
   "execution_count": 62,
   "metadata": {},
   "outputs": [
    {
     "output_type": "stream",
     "name": "stdout",
     "text": [
      "239\n"
     ]
    }
   ],
   "source": [
    "\n",
    "parser = re.compile('(\\w{3}):(\\S+)')\n",
    "\n",
    "def has_all_fields(passport):\n",
    "    required_fields = set(['byr','iyr','eyr','hgt','hcl','ecl','pid'])\n",
    "    detected_fields = set(field[0] for field in parser.findall(passport))\n",
    "    return not(required_fields - detected_fields)\n",
    "\n",
    "passports = p.input_data.split('\\n\\n')\n",
    "valid_passports = [passport for passport in passports if has_all_fields(passport)]\n",
    "\n",
    "p.answer_a = len(valid_passports)"
   ]
  },
  {
   "cell_type": "code",
   "execution_count": null,
   "metadata": {},
   "outputs": [],
   "source": []
  }
 ],
 "metadata": {
  "kernelspec": {
   "display_name": "Python 3",
   "language": "python",
   "name": "python3"
  },
  "language_info": {
   "codemirror_mode": {
    "name": "ipython",
    "version": 3
   },
   "file_extension": ".py",
   "mimetype": "text/x-python",
   "name": "python",
   "nbconvert_exporter": "python",
   "pygments_lexer": "ipython3",
   "version": "3.7.3-final"
  }
 },
 "nbformat": 4,
 "nbformat_minor": 4
}